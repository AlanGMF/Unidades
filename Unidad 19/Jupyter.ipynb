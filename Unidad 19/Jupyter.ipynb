{
 "cells": [
  {
   "cell_type": "markdown",
   "metadata": {},
   "source": [
    "# Cargar un data frame desde un archivo csv."
   ]
  },
  {
   "cell_type": "code",
   "execution_count": 205,
   "metadata": {},
   "outputs": [],
   "source": [
    "import pandas as pd\n",
    "\n",
    "elon_tweets_df = pd.read_csv(\"Elon_tweets.csv\")"
   ]
  },
  {
   "cell_type": "markdown",
   "metadata": {},
   "source": [
    "# Cargar un data frame distinto desde un archivo Excel."
   ]
  },
  {
   "cell_type": "code",
   "execution_count": 208,
   "metadata": {},
   "outputs": [
    {
     "data": {
      "text/html": [
       "<div>\n",
       "<style scoped>\n",
       "    .dataframe tbody tr th:only-of-type {\n",
       "        vertical-align: middle;\n",
       "    }\n",
       "\n",
       "    .dataframe tbody tr th {\n",
       "        vertical-align: top;\n",
       "    }\n",
       "\n",
       "    .dataframe thead th {\n",
       "        text-align: right;\n",
       "    }\n",
       "</style>\n",
       "<table border=\"1\" class=\"dataframe\">\n",
       "  <thead>\n",
       "    <tr style=\"text-align: right;\">\n",
       "      <th></th>\n",
       "      <th>presidente</th>\n",
       "      <th>pais</th>\n",
       "      <th>edad</th>\n",
       "    </tr>\n",
       "  </thead>\n",
       "  <tbody>\n",
       "    <tr>\n",
       "      <th>one</th>\n",
       "      <td>fulano</td>\n",
       "      <td>Azerbaiyan</td>\n",
       "      <td>15</td>\n",
       "    </tr>\n",
       "    <tr>\n",
       "      <th>two</th>\n",
       "      <td>mengano</td>\n",
       "      <td>Tayikistán</td>\n",
       "      <td>150</td>\n",
       "    </tr>\n",
       "    <tr>\n",
       "      <th>three</th>\n",
       "      <td>sultano</td>\n",
       "      <td>Turkmenistan</td>\n",
       "      <td>35</td>\n",
       "    </tr>\n",
       "    <tr>\n",
       "      <th>four</th>\n",
       "      <td>sultano_segundo</td>\n",
       "      <td>Turkmenistan</td>\n",
       "      <td>85</td>\n",
       "    </tr>\n",
       "  </tbody>\n",
       "</table>\n",
       "</div>"
      ],
      "text/plain": [
       "            presidente          pais  edad\n",
       "one             fulano    Azerbaiyan    15\n",
       "two            mengano    Tayikistán   150\n",
       "three          sultano  Turkmenistan    35\n",
       "four   sultano_segundo  Turkmenistan    85"
      ]
     },
     "execution_count": 208,
     "metadata": {},
     "output_type": "execute_result"
    }
   ],
   "source": [
    "# Creo un archivo excel(xlsx)\n",
    "df = pd.DataFrame(\n",
    "                    [\n",
    "                        [\"fulano\", 'Azerbaiyan', 15],\n",
    "                        [\"mengano\", \"Tayikistán\", 150],\n",
    "                        [\"sultano\", \"Turkmenistan\", 35],\n",
    "                        [\"sultano_segundo\", \"Turkmenistan\", 85]\n",
    "                    ],\n",
    "                    index=['one', 'two', 'three', 'four'],\n",
    "                    columns=['presidente', 'pais', 'edad']\n",
    "            )\n",
    "\n",
    "df.to_excel('pandas_to_excel.xlsx', sheet_name='new_sheet_name')\n",
    "\n",
    "excel_df = pd.read_excel('pandas_to_excel.xlsx', index_col=0)\n",
    "excel_df"
   ]
  },
  {
   "cell_type": "markdown",
   "metadata": {},
   "source": [
    "# Mostrar los datos de ambos dataframes."
   ]
  },
  {
   "cell_type": "code",
   "execution_count": 209,
   "metadata": {},
   "outputs": [
    {
     "name": "stdout",
     "output_type": "stream",
     "text": [
      "            presidente          pais  edad\n",
      "one             fulano    Azerbaiyan    15\n",
      "two            mengano    Tayikistán   150\n",
      "three          sultano  Turkmenistan    35\n",
      "four   sultano_segundo  Turkmenistan    85\n",
      "                                              Tweets  Retweets    Likes  Date  \\\n",
      "0                              @PeterSchiff 🤣 thanks       209     7021    10   \n",
      "1                              @ZubyMusic Absolutely       755    26737    10   \n",
      "2   Dear Twitter Advertisers https://t.co/GMwHmInPAS     55927   356623    10   \n",
      "3     Meeting a lot of cool people at Twitter today!      9366   195546    10   \n",
      "4  Entering Twitter HQ – let that sink in! https:...    145520  1043592    10   \n",
      "\n",
      "                                   Cleaned_Tweets  \n",
      "0                                          thanks  \n",
      "1                                      Absolutely  \n",
      "2                        Dear Twitter Advertisers  \n",
      "3  Meeting a lot of cool people at Twitter today!  \n",
      "4         Entering Twitter HQ – let that sink in!  \n"
     ]
    }
   ],
   "source": [
    "print(excel_df)\n",
    "print(elon_tweets_df.head())"
   ]
  },
  {
   "cell_type": "markdown",
   "metadata": {},
   "source": [
    "# Realizar las siguientes acciones sobre el segundo dataframe:\n",
    "##       Group By sobre un campo y utilizando sum()\n",
    "##       Realizar un Melt"
   ]
  },
  {
   "cell_type": "code",
   "execution_count": 213,
   "metadata": {},
   "outputs": [
    {
     "name": "stdout",
     "output_type": "stream",
     "text": [
      "              edad\n",
      "pais              \n",
      "Azerbaiyan      15\n",
      "Tayikistán     150\n",
      "Turkmenistan   120\n",
      "           pais    variable            value\n",
      "0    Azerbaiyan  presidente           fulano\n",
      "1    Tayikistán  presidente          mengano\n",
      "2  Turkmenistan  presidente          sultano\n",
      "3  Turkmenistan  presidente  sultano_segundo\n",
      "4    Azerbaiyan        edad               15\n",
      "5    Tayikistán        edad              150\n",
      "6  Turkmenistan        edad               35\n",
      "7  Turkmenistan        edad               85\n"
     ]
    }
   ],
   "source": [
    "print(excel_df.groupby(by=['pais']).sum(numeric_only= True))\n",
    "\n",
    "print(excel_df.melt(id_vars=['pais'], value_vars=['presidente', \"edad\"]))"
   ]
  },
  {
   "cell_type": "markdown",
   "metadata": {},
   "source": [
    "# Realizar un gráfico de Barras con el primer dataframe."
   ]
  },
  {
   "cell_type": "code",
   "execution_count": 206,
   "metadata": {},
   "outputs": [
    {
     "data": {
      "text/html": [
       "<div>\n",
       "<style scoped>\n",
       "    .dataframe tbody tr th:only-of-type {\n",
       "        vertical-align: middle;\n",
       "    }\n",
       "\n",
       "    .dataframe tbody tr th {\n",
       "        vertical-align: top;\n",
       "    }\n",
       "\n",
       "    .dataframe thead th {\n",
       "        text-align: right;\n",
       "    }\n",
       "</style>\n",
       "<table border=\"1\" class=\"dataframe\">\n",
       "  <thead>\n",
       "    <tr style=\"text-align: right;\">\n",
       "      <th></th>\n",
       "      <th>Retweets</th>\n",
       "      <th>Likes</th>\n",
       "    </tr>\n",
       "    <tr>\n",
       "      <th>Date</th>\n",
       "      <th></th>\n",
       "      <th></th>\n",
       "    </tr>\n",
       "  </thead>\n",
       "  <tbody>\n",
       "    <tr>\n",
       "      <th>1</th>\n",
       "      <td>389069</td>\n",
       "      <td>3049479</td>\n",
       "    </tr>\n",
       "    <tr>\n",
       "      <th>2</th>\n",
       "      <td>676013</td>\n",
       "      <td>6714981</td>\n",
       "    </tr>\n",
       "    <tr>\n",
       "      <th>3</th>\n",
       "      <td>1174527</td>\n",
       "      <td>13649637</td>\n",
       "    </tr>\n",
       "    <tr>\n",
       "      <th>4</th>\n",
       "      <td>4672954</td>\n",
       "      <td>52523236</td>\n",
       "    </tr>\n",
       "    <tr>\n",
       "      <th>5</th>\n",
       "      <td>3325579</td>\n",
       "      <td>40444157</td>\n",
       "    </tr>\n",
       "    <tr>\n",
       "      <th>6</th>\n",
       "      <td>1076176</td>\n",
       "      <td>14801450</td>\n",
       "    </tr>\n",
       "    <tr>\n",
       "      <th>7</th>\n",
       "      <td>992448</td>\n",
       "      <td>15126007</td>\n",
       "    </tr>\n",
       "    <tr>\n",
       "      <th>8</th>\n",
       "      <td>899965</td>\n",
       "      <td>11724174</td>\n",
       "    </tr>\n",
       "    <tr>\n",
       "      <th>9</th>\n",
       "      <td>511909</td>\n",
       "      <td>7207478</td>\n",
       "    </tr>\n",
       "    <tr>\n",
       "      <th>10</th>\n",
       "      <td>1216979</td>\n",
       "      <td>15119995</td>\n",
       "    </tr>\n",
       "  </tbody>\n",
       "</table>\n",
       "</div>"
      ],
      "text/plain": [
       "      Retweets     Likes\n",
       "Date                    \n",
       "1       389069   3049479\n",
       "2       676013   6714981\n",
       "3      1174527  13649637\n",
       "4      4672954  52523236\n",
       "5      3325579  40444157\n",
       "6      1076176  14801450\n",
       "7       992448  15126007\n",
       "8       899965  11724174\n",
       "9       511909   7207478\n",
       "10     1216979  15119995"
      ]
     },
     "execution_count": 206,
     "metadata": {},
     "output_type": "execute_result"
    }
   ],
   "source": [
    "# Remplazo la fecha de cada tweet por el mes\n",
    "\n",
    "#elon_tweets_df['Date'] = elon_tweets_df['Date'].map(lambda x: str(x)[5:-12]) - deprecated\n",
    "elon_tweets_df['Date'] = pd.to_datetime(elon_tweets_df['Date']).dt.month\n",
    "\n",
    "# Agrupo los tweets por mes\n",
    "retweets_likes_por_mes = elon_tweets_df.groupby(by= ['Date']).sum(numeric_only= True)\n",
    "retweets_likes_por_mes"
   ]
  },
  {
   "cell_type": "code",
   "execution_count": 204,
   "metadata": {},
   "outputs": [
    {
     "data": {
      "image/png": "[encoded data removed]",
      "text/plain": [
       "<Figure size 640x480 with 1 Axes>"
      ]
     },
     "metadata": {},
     "output_type": "display_data"
    }
   ],
   "source": [
    "# Se grafican los likes de Elon por mes\n",
    "import matplotlib.pyplot as plt\n",
    "\n",
    "date_likes_df = retweets_likes_por_mes['Likes']\n",
    "date_likes_df.plot(y='Likes', kind='bar')\n",
    "plt.xlabel('Mes')\n",
    "plt.ylabel('Likes en decenas de millones')\n",
    "plt.title('Likes por Mes')\n",
    "plt.show()"
   ]
  }
 ],
 "metadata": {
  "kernelspec": {
   "display_name": "Python 3.10.0 ('AmbienteVirtual': venv)",
   "language": "python",
   "name": "python3"
  },
  "language_info": {
   "codemirror_mode": {
    "name": "ipython",
    "version": 3
   },
   "file_extension": ".py",
   "mimetype": "text/x-python",
   "name": "python",
   "nbconvert_exporter": "python",
   "pygments_lexer": "ipython3",
   "version": "3.10.0"
  },
  "orig_nbformat": 4,
  "vscode": {
   "interpreter": {
    "hash": "e61914baf451df2d74d3dd0455b2dd627d44eb686aed37e1cff487ed1f1daa7f"
   }
  }
 },
 "nbformat": 4,
 "nbformat_minor": 2
}

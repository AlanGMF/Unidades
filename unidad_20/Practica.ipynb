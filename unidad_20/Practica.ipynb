{
 "cells": [
  {
   "cell_type": "markdown",
   "metadata": {},
   "source": [
    "### 1. Conectarse a la url que contiene el archivo CSV de medallas olímpicas."
   ]
  },
  {
   "cell_type": "code",
   "execution_count": 1,
   "metadata": {},
   "outputs": [],
   "source": [
    "import sqlite3\n",
    "import pandas as pd\n",
    "#import sqlalchemy as db\n",
    "\n",
    "medals = pd.read_csv(\"http://winterolympicsmedals.com/medals.csv\")"
   ]
  },
  {
   "cell_type": "markdown",
   "metadata": {},
   "source": [
    "### 2. Descargar los datos y obtener un sub dataset que contenga a todas las medallas de oro (Gold) Estados Unidos (USA) a partir del año 1950"
   ]
  },
  {
   "cell_type": "code",
   "execution_count": 2,
   "metadata": {},
   "outputs": [
    {
     "data": {
      "text/html": [
       "<div>\n",
       "<style scoped>\n",
       "    .dataframe tbody tr th:only-of-type {\n",
       "        vertical-align: middle;\n",
       "    }\n",
       "\n",
       "    .dataframe tbody tr th {\n",
       "        vertical-align: top;\n",
       "    }\n",
       "\n",
       "    .dataframe thead th {\n",
       "        text-align: right;\n",
       "    }\n",
       "</style>\n",
       "<table border=\"1\" class=\"dataframe\">\n",
       "  <thead>\n",
       "    <tr style=\"text-align: right;\">\n",
       "      <th></th>\n",
       "      <th>Year</th>\n",
       "      <th>City</th>\n",
       "      <th>Sport</th>\n",
       "      <th>Discipline</th>\n",
       "      <th>NOC</th>\n",
       "      <th>Event</th>\n",
       "      <th>Event gender</th>\n",
       "      <th>Medal</th>\n",
       "    </tr>\n",
       "  </thead>\n",
       "  <tbody>\n",
       "    <tr>\n",
       "      <th>311</th>\n",
       "      <td>1952</td>\n",
       "      <td>Oslo</td>\n",
       "      <td>Skating</td>\n",
       "      <td>Figure skating</td>\n",
       "      <td>USA</td>\n",
       "      <td>individual</td>\n",
       "      <td>M</td>\n",
       "      <td>Gold</td>\n",
       "    </tr>\n",
       "    <tr>\n",
       "      <th>314</th>\n",
       "      <td>1952</td>\n",
       "      <td>Oslo</td>\n",
       "      <td>Skating</td>\n",
       "      <td>Speed skating</td>\n",
       "      <td>USA</td>\n",
       "      <td>500m</td>\n",
       "      <td>M</td>\n",
       "      <td>Gold</td>\n",
       "    </tr>\n",
       "    <tr>\n",
       "      <th>316</th>\n",
       "      <td>1952</td>\n",
       "      <td>Oslo</td>\n",
       "      <td>Skiing</td>\n",
       "      <td>Alpine Skiing</td>\n",
       "      <td>USA</td>\n",
       "      <td>giant slalom</td>\n",
       "      <td>W</td>\n",
       "      <td>Gold</td>\n",
       "    </tr>\n",
       "    <tr>\n",
       "      <th>317</th>\n",
       "      <td>1952</td>\n",
       "      <td>Oslo</td>\n",
       "      <td>Skiing</td>\n",
       "      <td>Alpine Skiing</td>\n",
       "      <td>USA</td>\n",
       "      <td>slalom</td>\n",
       "      <td>W</td>\n",
       "      <td>Gold</td>\n",
       "    </tr>\n",
       "    <tr>\n",
       "      <th>386</th>\n",
       "      <td>1956</td>\n",
       "      <td>Cortina d'Ampezzo</td>\n",
       "      <td>Skating</td>\n",
       "      <td>Figure skating</td>\n",
       "      <td>USA</td>\n",
       "      <td>individual</td>\n",
       "      <td>M</td>\n",
       "      <td>Gold</td>\n",
       "    </tr>\n",
       "  </tbody>\n",
       "</table>\n",
       "</div>"
      ],
      "text/plain": [
       "     Year               City    Sport      Discipline  NOC         Event  \\\n",
       "311  1952               Oslo  Skating  Figure skating  USA    individual   \n",
       "314  1952               Oslo  Skating   Speed skating  USA          500m   \n",
       "316  1952               Oslo   Skiing   Alpine Skiing  USA  giant slalom   \n",
       "317  1952               Oslo   Skiing   Alpine Skiing  USA        slalom   \n",
       "386  1956  Cortina d'Ampezzo  Skating  Figure skating  USA    individual   \n",
       "\n",
       "    Event gender Medal  \n",
       "311            M  Gold  \n",
       "314            M  Gold  \n",
       "316            W  Gold  \n",
       "317            W  Gold  \n",
       "386            M  Gold  "
      ]
     },
     "execution_count": 2,
     "metadata": {},
     "output_type": "execute_result"
    }
   ],
   "source": [
    "usa_gold_medals = medals[\n",
    "                        (medals['NOC'] == 'USA') \n",
    "                        & (medals['Medal'] == 'Gold') \n",
    "                        & (medals['Year']>=1950)\n",
    "                    ]\n",
    "usa_gold_medals.head()"
   ]
  },
  {
   "cell_type": "markdown",
   "metadata": {},
   "source": [
    "### 3. Crear una base de datos “olympics” en SQLite y la tabla “medals”"
   ]
  },
  {
   "cell_type": "code",
   "execution_count": 3,
   "metadata": {},
   "outputs": [],
   "source": [
    "# Se crear la conexión a la base de datos\n",
    "conn = sqlite3.connect('olympics.db')\n",
    "\n",
    "# Se crear el cursor\n",
    "cursor = conn.cursor()\n",
    "\n",
    "# Se crear la tabla\n",
    "query = \"\"\"CREATE TABLE IF NOT EXISTS medals (\n",
    "            Year INTEGER,\n",
    "            City TEXT NOT NULL,\n",
    "            Sport TEXT NOT NULL,\n",
    "            Discipline TEXT NOT NULL,\n",
    "            NOC TEXT NOT NULL,\n",
    "            Event TEXT NOT NULL,\n",
    "            Event_gender TEXT NOT NULL,\n",
    "            Medal TEXT NOT NULL\n",
    "            );\"\"\"\n",
    "\n",
    "cursor.execute(query)\n",
    "conn.commit()"
   ]
  },
  {
   "cell_type": "markdown",
   "metadata": {},
   "source": [
    "### 4. Guardar en la base de datos. los datos generados en el sub dataset"
   ]
  },
  {
   "cell_type": "code",
   "execution_count": 49,
   "metadata": {},
   "outputs": [],
   "source": [
    "# Obtengo las filas del dataset como tuplas dentro de una lista.\n",
    "# Se ignora el nombre de las columnas(name=None) y los indices de las filas (index=False)\n",
    "order_data = list(usa_gold_medals.itertuples(index=False, name=None))\n",
    "\n",
    "# Se cargan los datos\n",
    "cursor.executemany(\"INSERT INTO medals VALUES (?, ?, ?, ?, ?, ?, ?, ?)\", order_data)\n",
    "\n",
    "conn.commit()"
   ]
  },
  {
   "cell_type": "markdown",
   "metadata": {},
   "source": [
    "### 5. Consultar la base de datos y validar que los datos se hayan cargado correctamente."
   ]
  },
  {
   "cell_type": "code",
   "execution_count": 5,
   "metadata": {},
   "outputs": [
    {
     "name": "stdout",
     "output_type": "stream",
     "text": [
      "(311, 1952, 'Oslo', 'Skating', 'Figure skating', 'USA', 'individual', 'M', 'Gold')\n",
      "(314, 1952, 'Oslo', 'Skating', 'Speed skating', 'USA', '500m', 'M', 'Gold')\n",
      "(316, 1952, 'Oslo', 'Skiing', 'Alpine Skiing', 'USA', 'giant slalom', 'W', 'Gold')\n",
      "(317, 1952, 'Oslo', 'Skiing', 'Alpine Skiing', 'USA', 'slalom', 'W', 'Gold')\n",
      "(386, 1956, \"Cortina d'Ampezzo\", 'Skating', 'Figure skating', 'USA', 'individual', 'M', 'Gold')\n",
      "(388, 1956, \"Cortina d'Ampezzo\", 'Skating', 'Figure skating', 'USA', 'individual', 'W', 'Gold')\n",
      "(461, 1960, 'Squaw Valley', 'Ice Hockey', 'Ice Hockey', 'USA', 'ice hockey', 'M', 'Gold')\n",
      "(462, 1960, 'Squaw Valley', 'Skating', 'Figure skating', 'USA', 'individual', 'M', 'Gold')\n",
      "(464, 1960, 'Squaw Valley', 'Skating', 'Figure skating', 'USA', 'individual', 'W', 'Gold')\n",
      "(569, 1964, 'Innsbruck', 'Skating', 'Speed skating', 'USA', '500m', 'M', 'Gold')\n"
     ]
    }
   ],
   "source": [
    "# Consulta\n",
    "query = \"SELECT * FROM medals LIMIT 10\"\n",
    "cursor.execute(query)\n",
    "\n",
    "# Se muestra los resultados obtenidos\n",
    "results = cursor.fetchall()\n",
    "\n",
    "for result in results:\n",
    "    print(result)\n"
   ]
  }
 ],
 "metadata": {
  "kernelspec": {
   "display_name": "Python 3.10.0 ('AmbienteVirtual': venv)",
   "language": "python",
   "name": "python3"
  },
  "language_info": {
   "codemirror_mode": {
    "name": "ipython",
    "version": 3
   },
   "file_extension": ".py",
   "mimetype": "text/x-python",
   "name": "python",
   "nbconvert_exporter": "python",
   "pygments_lexer": "ipython3",
   "version": "3.10.0"
  },
  "orig_nbformat": 4,
  "vscode": {
   "interpreter": {
    "hash": "e61914baf451df2d74d3dd0455b2dd627d44eb686aed37e1cff487ed1f1daa7f"
   }
  }
 },
 "nbformat": 4,
 "nbformat_minor": 2
}

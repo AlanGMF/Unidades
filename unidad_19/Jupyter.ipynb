{
 "cells": [
  {
   "cell_type": "code",
   "execution_count": 107,
   "metadata": {},
   "outputs": [],
   "source": [
    "# Cargar un data frame desde un archivo csv.\n",
    "\n",
    "import pandas as pd\n",
    "\n",
    "elon_tweets_df = pd.read_csv(\"Elon_tweets.csv\")\n"
   ]
  },
  {
   "cell_type": "code",
   "execution_count": 108,
   "metadata": {},
   "outputs": [],
   "source": [
    "# Cargar un data frame distinto desde un archivo Excel.\n",
    "\n",
    "# Creo un archivo excel(xlsx)\n",
    "df = pd.DataFrame(\n",
    "                    [\n",
    "                        [\"fulano\", 'Azerbaiyan', 15],\n",
    "                        [\"mengano\", \"Tayikistán\", 150],\n",
    "                        [\"sultano\", \"Turkmenistan\", 35],\n",
    "                        [\"sultano_segundo\", \"Turkmenistan\", 85]\n",
    "                    ],\n",
    "                    index=['one', 'two', 'three', 'four'],\n",
    "                    columns=['presidente', 'pais', 'edad']\n",
    "            )\n",
    "\n",
    "df.to_excel('pandas_to_excel.xlsx', sheet_name='new_sheet_name')\n",
    "\n",
    "excel_df = pd.read_excel('pandas_to_excel.xlsx')"
   ]
  },
  {
   "cell_type": "code",
   "execution_count": 16,
   "metadata": {},
   "outputs": [],
   "source": [
    "# Mostrar los datos de ambos dataframes.\n",
    "\n",
    "print(excel_df)\n",
    "print(elon_tweets_df.head())"
   ]
  },
  {
   "cell_type": "code",
   "execution_count": 109,
   "metadata": {},
   "outputs": [],
   "source": [
    "# Realizar las siguientes acciones sobre el segundo dataframe:\n",
    "#       Group By sobre un campo y utilizando sum()\n",
    "#       Realizar un Melt\n",
    "\n",
    "excel_df.groupby(by=['pais']).sum()\n",
    "\n",
    "excel_df.melt(id_vars=['pais'], value_vars=['presidente', \"edad\"])"
   ]
  },
  {
   "cell_type": "code",
   "execution_count": 104,
   "metadata": {},
   "outputs": [
    {
     "name": "stderr",
     "output_type": "stream",
     "text": [
      "C:\\Users\\Alan\\AppData\\Local\\Temp\\ipykernel_238652\\1105033953.py:7: FutureWarning: The default value of numeric_only in DataFrameGroupBy.sum is deprecated. In a future version, numeric_only will default to False. Either specify numeric_only or select only columns which should be valid for the function.\n",
      "  retweets_likes_por_mes = elon_tweets_df.groupby(by= ['Date']).sum()\n"
     ]
    }
   ],
   "source": [
    "# Realizar un gráfico de Barras con el primer dataframe.\n",
    "\n",
    "# Remplazo la fecha de cada tweet por el mes\n",
    "elon_tweets_df['Date'] = elon_tweets_df['Date'].map(lambda x: str(x)[5:-12])\n",
    "\n",
    "# Agrupo los tweets por mes\n",
    "retweets_likes_por_mes = elon_tweets_df.groupby(by= ['Date']).sum()"
   ]
  },
  {
   "cell_type": "code",
   "execution_count": 121,
   "metadata": {},
   "outputs": [
    {
     "data": {
      "image/png": "[encoded data removed]",
      "text/plain": [
       "<Figure size 640x480 with 1 Axes>"
      ]
     },
     "metadata": {},
     "output_type": "display_data"
    }
   ],
   "source": [
    "# Grafico los likes de Elon por mes\n",
    "import matplotlib.pyplot as plt\n",
    "\n",
    "date_likes_df = retweets_likes_por_mes['Likes']\n",
    "date_likes_df.plot(y='Likes', kind='bar')\n",
    "plt.xlabel('Mes')\n",
    "plt.ylabel('Likes en decenas de millones')\n",
    "plt.title('Likes por Mes')\n",
    "plt.show()"
   ]
  }
 ],
 "metadata": {
  "kernelspec": {
   "display_name": "Python 3.10.0 ('AmbienteVirtual': venv)",
   "language": "python",
   "name": "python3"
  },
  "language_info": {
   "codemirror_mode": {
    "name": "ipython",
    "version": 3
   },
   "file_extension": ".py",
   "mimetype": "text/x-python",
   "name": "python",
   "nbconvert_exporter": "python",
   "pygments_lexer": "ipython3",
   "version": "3.10.0"
  },
  "orig_nbformat": 4,
  "vscode": {
   "interpreter": {
    "hash": "e61914baf451df2d74d3dd0455b2dd627d44eb686aed37e1cff487ed1f1daa7f"
   }
  }
 },
 "nbformat": 4,
 "nbformat_minor": 2
}
